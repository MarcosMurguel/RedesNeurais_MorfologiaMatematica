{
  "cells": [
    {
      "cell_type": "markdown",
      "metadata": {
        "id": "view-in-github",
        "colab_type": "text"
      },
      "source": [
        "<a href=\"https://colab.research.google.com/github/MarcosMurguel/ICRedesNeurais-MorfologiaMatematica/blob/main/Morfologia_Matem%C3%A1tica_e_Redes_Neurais_Morfol%C3%B3gicas_Implementadas_no_TensorFlow.ipynb\" target=\"_parent\"><img src=\"https://colab.research.google.com/assets/colab-badge.svg\" alt=\"Open In Colab\"/></a>"
      ]
    },
    {
      "cell_type": "markdown",
      "source": [
        "#Projeto: Morfologia Matemática e Redes Neurais Morfológicas Implementadas no TensorFlow\n",
        "\n",
        "Esse algorítmo foi desenvolvido por mim, Marcos Murguel$^{1}$ em apr/2022, a partir de um projeto de Iniciação Cientifica (IC) orientada pelo Prof. Dr. Marcos Eduardo Valle$^{2}$ com fomento público pelo Conselho Nacional de Desenvolvimento Científico e Tecnológico (CNPQ). O projeto geral permeia a área de Inteligência Artificial para Processamento Digital de Imagens. Neste projeto, em suma$^{3}$, me dediquei em estudar:  \n",
        "\n",
        "*   Teoria dos conjuntos;\n",
        "*   Erosão e Dilatação binária;\n",
        "*   Erosão e Dilatação em tons de cinza;\n",
        "*   Estrutura de um Neurônio Artificial;\n",
        "*   Gradiente Descendente;\n",
        "*   Redes Neurais (Perceptron e Convolucional);\n",
        "*   Aplicação Computacional em Python;\n",
        "*   Divisão entre treino e teste;\n",
        "*   Avaliação de Modelos de Classificação.\n",
        "\n"
      ],
      "metadata": {
        "id": "i1aHYT3cOAfF"
      },
      "id": "i1aHYT3cOAfF"
    },
    {
      "cell_type": "markdown",
      "source": [
        "\n",
        "## 1) Técnologias e conhecimentos utilizados no projeto:\n",
        "\n",
        "*   Aprendizado de máquina supervisionado;\n",
        "*   Modelo de Classificação;\n",
        "*   Google Colab;\n",
        "*   Python;\n",
        "*   Scikit-Learn;\n",
        "*   Numpy;\n",
        "*   Pandas;\n",
        "*   Matplotlib.\n",
        "\n",
        "##2) Objetivo do projeto.\n",
        "Implementar e testar uma Rede Neural Morfológica utilizando conhecimentos da teoria de Morfologia Matemática.\n",
        "\n",
        "## 3)Conhecimento Teórico Necessário.\n",
        "### 3.1) Erosão e Dilatação.\n",
        "Dados um função $f$ e um elemento estruturante $g$, a erosão de $f$ por $g$ é definida por:\n",
        "\\begin{equation}\n",
        "    \\left(f \\ominus g \\right) \\left(x\\right) = \\max \\left\\{y : g_x + y \\leq f \\right\\}.\n",
        "\\end{equation}\n",
        "Podemos reescrever a **Erosão** como uma subtração de Minkowviski. Usando o símbolo $\\land$ para denotar o ínfimo, temos:\n",
        "\\begin{equation}\n",
        "    f \\ominus g = \\bigwedge_{x \\in D} (f_{-x} - g(x))\n",
        "\\end{equation}\n",
        "\n",
        "De forma análoga, dados uma função $f$ e um elemento estruturante $g$, a **Dilatação** de $f$ por $g$ é definida por:\n",
        "\\begin{equation}\n",
        "    \\left(f \\oplus g \\right) \\left(x\\right) = \\min \\left\\{y : -\\check{g}_x + y \\geq f \\right\\}.\n",
        "\\end{equation}\n",
        "Também podemos reescrever a \\textit{dilatação} como uma soma de Minkowviski. Usando o símbolo $\\vee$ para denotar o supremo, temos:\n",
        "\\begin{equation}\n",
        "    f \\oplus g = \\bigvee_{x \\in D} \\big(f_x + g(x) \\big)\n",
        "\\end{equation}\n",
        "\n",
        "### 3.2) Neurônios Artificiais e Potêncial de Ativação.\n",
        "\n",
        "Os neurônios são as unidades básicas de processamento de uma rede neural artificial. Existe na literatura diferentes forma de descrever um neurônio artificial, incluindo os neurônios tradicionais e os neurônios morfológicos. A arquitetura da rede descreve a interação entre os neurônios da rede. Finalmente, a regra de aprendizado corresponde à forma como os parâmetros livres são ajustados para que a rede realize uma certa tarefa. Iniciamos nossos estudos das redes neurais artificiais com o modelo do neurônio. Na sequência, apresentamos o neurônio tradicional e o neurônio morfológico.\n",
        "\n",
        "Dadas as entradas $\\left[x_1, x_2, x_3, \\ldots, x_n \\right]$, os pesos $\\left[w_{1}, w_{2}, w_{3}, \\ldots, w_{n} \\right]$ e o bias $b$, podemos escrever o *potencial de ativação* $v$ de um neurônio tradicional por\n",
        "\\begin{equation}\n",
        "    v = \\sum_{j=1}^n w_{j} x_{j} + b.\n",
        "\\end{equation}\n",
        "Dada uma função de ativação $\\phi:\\mathbb{R} \\to \\mathbb{R}$, a saída do neurônio tradicional é dada por:\n",
        "\\begin{equation}\n",
        "     y = \\phi(v).\n",
        "\\end{equation}\n",
        "A função de ativação $\\phi$ desempenha um papel matemático importante introduzindo uma possível não-linearidade no modelo do neurônio. Exemplos de funções de ativação incluem a função logística e a função de ativação *relu* (abreviação de *rectified linear unit*).\n",
        "\n",
        "Diferente do modelo tradicional, podemos escrever o potencial de ativação de um neurônio morfológico matematicamente por:\n",
        "\\begin{equation}\n",
        "    v =  \\max_{j=1,\\ldots,n} \\{w_{j} + x_j\\}  \\iff  v = \\bigvee_{j=1}^{n}  \\{w_{j} + x_j\\},\n",
        "\\end{equation}\n",
        "ou\n",
        "\\begin{equation}\n",
        "    v =  \\min_{j=1,\\ldots,n} \\{w_{j} + x_j\\}  \\iff  v = \\bigwedge_{j=1}^{n}  \\{w_{j} + x_j\\}.\n",
        "\\end{equation}\n",
        "Pode-se mostrar que primeira e a segunda equação realizam uma operação de dilatação e erosão da morfologia matemática em tons de cinza, respectivamente.\n",
        "\n",
        "##4) Conquistas:\n",
        "\n",
        "*   Projeto final apresentado no XXX Congresso de Iniciação Cientifica da Unicamp;\n",
        "*   Conquista de mais um projeto$^{4}$ intitulado \"Redes Neurais Profundas Aplicadas no Diagnóstico de Leucemia Linfoblástica Aguda\" com base neste perído de dedicação.\n",
        "\n",
        "$^{1}$ Graduando em Matemática pelo Instituto de Matemática, Estatística e Computação Científica - Unicamp.\n",
        "\n",
        "$^{2}$ Professor pelo Instituto de Matemática, Estatística e Computação Científica - Unicamp.\n",
        "\n",
        "$^{3}$ Para ter acesso a todo o projeto, com toda argumentação teórica, veja este [reposítorio](https://).\n",
        "\n",
        "$^{4}$ Para ter acesso ao novo projeto, veja este [reposítorio](https://)."
      ],
      "metadata": {
        "id": "H0PmVBu_0IOk"
      },
      "id": "H0PmVBu_0IOk"
    },
    {
      "cell_type": "markdown",
      "source": [
        "## 5) Implementação do Projeto e aplicação nos conjuntos de dados [Make Moons](https://scikit-learn.org/stable/modules/generated/sklearn.datasets.make_moons.html) e [Breast Cancer](https://scikit-learn.org/stable/modules/generated/sklearn.datasets.load_breast_cancer.html)."
      ],
      "metadata": {
        "id": "Yf8bugZT0PNc"
      },
      "id": "Yf8bugZT0PNc"
    },
    {
      "cell_type": "markdown",
      "source": [
        "### 5.1) Carregando as Bibliotecas."
      ],
      "metadata": {
        "id": "i-W_gF4_0uzK"
      },
      "id": "i-W_gF4_0uzK"
    },
    {
      "cell_type": "code",
      "execution_count": null,
      "id": "floppy-cloud",
      "metadata": {
        "id": "floppy-cloud"
      },
      "outputs": [],
      "source": [
        "import pandas as pd\n",
        "import numpy as np\n",
        "import tensorflow as tf\n",
        "import matplotlib.pyplot as plt\n",
        "from sklearn.datasets import make_blobs, make_classification, make_moons, load_breast_cancer\n",
        "from sklearn.metrics import accuracy_score, classification_report\n",
        "from tensorflow.keras import Model, Input, Sequential\n",
        "from tensorflow.keras.layers import Dense, Layer\n",
        "from mlxtend.plotting import plot_decision_regions\n",
        "from sklearn.model_selection import cross_validate\n",
        "from sklearn.model_selection import train_test_split, KFold, StratifiedKFold\n",
        "from re import VERBOSE\n",
        "import os"
      ]
    },
    {
      "cell_type": "markdown",
      "source": [
        "### 5.2) Carregando e plotando um conjunto de dados artificial chamado Make Moons, que formam duas luas como a imagem a seguir evidencia. Veja que este problema não é, de forma mais otimizada, linearmente resolvível. Perceba que este é um exemplo de classificação binária, onde pertencemos a classe roxa ou a classe amarela."
      ],
      "metadata": {
        "id": "YVfOnS7F0xhR"
      },
      "id": "YVfOnS7F0xhR"
    },
    {
      "cell_type": "code",
      "execution_count": null,
      "id": "after-artwork",
      "metadata": {
        "id": "after-artwork"
      },
      "outputs": [],
      "source": [
        "X_moons, Y_moons = make_moons(n_samples=2000, noise=0.12);\n",
        "plt.scatter(X_moons[:,0],X_moons[:,1],c=Y_moons);"
      ]
    },
    {
      "cell_type": "markdown",
      "source": [
        "### 5.3) Carregando um conjunto de dados chamado load_breast_cancer. Este é um dataset que contém dados de pacientes, nosso objetivo é aferir se um paciênte X tera, ou não, câncer dado as nossas variáveis independentes. Assim como nosso problema anterior, aqui temos um caso de classficação binária, onde o paciente X tem ou não tem câncer."
      ],
      "metadata": {
        "id": "cXZ1JXj9oZab"
      },
      "id": "cXZ1JXj9oZab"
    },
    {
      "cell_type": "code",
      "source": [
        "X_cancer, Y_cancer = load_breast_cancer(return_X_y=True)"
      ],
      "metadata": {
        "id": "lQvPYU9yohLK"
      },
      "id": "lQvPYU9yohLK",
      "execution_count": null,
      "outputs": []
    },
    {
      "cell_type": "markdown",
      "source": [
        "### 5.4) Criando nossa Camada de Dilatação, chamada de DilationLayer. Veja que assim como na teoria, aqui pegamos o valor máximo da soma de $w_j$ e $x_j$.\n",
        "\n",
        "\\begin{equation}\n",
        "    v =  \\max_{j=1,\\ldots,n} \\{w_{j} + x_j\\}  \\iff  v = \\bigvee_{j=1}^{n}  \\{w_{j} + x_j\\},\n",
        "\\end{equation}\n"
      ],
      "metadata": {
        "id": "675wMSzw3kP4"
      },
      "id": "675wMSzw3kP4"
    },
    {
      "cell_type": "code",
      "execution_count": null,
      "id": "worth-mason",
      "metadata": {
        "id": "worth-mason"
      },
      "outputs": [],
      "source": [
        "class DilationLayer(Layer):\n",
        "    def __init__(self, neuronios=1):\n",
        "        super(DilationLayer, self).__init__()\n",
        "        self.units = neuronios\n",
        "\n",
        "    def build(self, input_shape):\n",
        "            w_init = tf.random_uniform_initializer(minval=-1, maxval=1)\n",
        "            self.w = tf.Variable(initial_value=w_init(shape=(self.units, input_shape[-1])),trainable=True)\n",
        "\n",
        "    def call(self, inputs):\n",
        "        return tf.stack([tf.reduce_max(tf.add(inputs,self.w[i]),axis=1) for i in range(self.units)], axis=1) #retorna o máximo da soma de w_j e x_j."
      ]
    },
    {
      "cell_type": "markdown",
      "source": [
        "### 5.5) De maneira análoga, criamos nossa Camada de Erosão, chamada de ErosionLayer. Veja que assim como na teoria, aqui pegamos o valor mínimo da soma de $w_j$ e $x_j$.\n",
        "\n",
        "\\begin{equation}\n",
        "    v =  \\min_{j=1,\\ldots,n} \\{w_{j} + x_j\\}  \\iff  v = \\bigwedge_{j=1}^{n}  \\{w_{j} + x_j\\}.\n",
        "\\end{equation}"
      ],
      "metadata": {
        "id": "i3bik3pg4oH6"
      },
      "id": "i3bik3pg4oH6"
    },
    {
      "cell_type": "code",
      "source": [
        "class ErosionLayer(Layer):\n",
        "    def __init__(self, neuronios=1):\n",
        "        super(ErosionLayer, self).__init__()\n",
        "        self.units = neuronios\n",
        "\n",
        "    def build(self, input_shape):\n",
        "            w_init = tf.random_uniform_initializer(minval=-1, maxval=1)\n",
        "            self.w = tf.Variable(initial_value=w_init(shape=(self.units, input_shape[-1])),trainable=True)\n",
        "\n",
        "    def call(self, inputs):\n",
        "        return tf.stack([tf.reduce_min(tf.add(inputs,self.w[i]),axis=1) for i in range(self.units)], axis=1) #retorna o mínimo da soma de w_j e x_j."
      ],
      "metadata": {
        "id": "5kL-w2TcAUix"
      },
      "id": "5kL-w2TcAUix",
      "execution_count": null,
      "outputs": []
    },
    {
      "cell_type": "markdown",
      "source": [
        "### 5.5) Criando uma função myscore que devolve a acurácia do modelo.\n"
      ],
      "metadata": {
        "id": "AlnNLSMVa7ok"
      },
      "id": "AlnNLSMVa7ok"
    },
    {
      "cell_type": "code",
      "source": [
        "def myscore(clf,X,y):\n",
        "  return accuracy_score(y,clf.predict(X))"
      ],
      "metadata": {
        "id": "tyhkO_qua6rn"
      },
      "id": "tyhkO_qua6rn",
      "execution_count": null,
      "outputs": []
    },
    {
      "cell_type": "markdown",
      "source": [
        "### 5.6) Criando uma rede neural com os conceitos da **Erosion Layer**, aqui temos a aplicação do modelo matemático calculado anteriormente. Testamos também sua acurácia, afim de termos uma métrica de comparação entre os modelos."
      ],
      "metadata": {
        "id": "cB3ajxjS5RSw"
      },
      "id": "cB3ajxjS5RSw"
    },
    {
      "cell_type": "code",
      "execution_count": null,
      "id": "practical-instrument",
      "metadata": {
        "id": "practical-instrument"
      },
      "outputs": [],
      "source": [
        "class MorphNetErosion():\n",
        "    def __init__(self, Neuronios = 10):\n",
        "        self.N = Neuronios\n",
        "\n",
        "    def fit(self,X,Y,epochs = 100):\n",
        "        self.clf = Sequential([ErosionLayer(self.N),Dense(1)])\n",
        "        self.clf.compile(optimizer=\"Adam\",loss=tf.keras.losses.BinaryCrossentropy(from_logits=True))\n",
        "        self.clf.fit(X,Y,epochs=epochs)\n",
        "\n",
        "    def predict(self,X):\n",
        "        return self.clf.predict(X) >= 0"
      ]
    },
    {
      "cell_type": "code",
      "source": [
        "clf_erosion = MorphNetErosion(50)\n",
        "clf_erosion.fit(X_moons,Y_moons,200);\n",
        "Ypred = clf_erosion.predict(X_moons);"
      ],
      "metadata": {
        "id": "luonLwyiYvKm"
      },
      "id": "luonLwyiYvKm",
      "execution_count": null,
      "outputs": []
    },
    {
      "cell_type": "code",
      "source": [
        "score_erosion = myscore(clf_erosion,X_moons,Y_moons)\n",
        "print(f'A acurácia do modelo que utiliza apenas a erosão como construção teórica está em {round(score_erosion*100,2)}%')"
      ],
      "metadata": {
        "id": "sa-NCE2VbVmW"
      },
      "id": "sa-NCE2VbVmW",
      "execution_count": null,
      "outputs": []
    },
    {
      "cell_type": "code",
      "source": [
        "print(classification_report(Y_moons,clf_erosion.predict(X_moons)))"
      ],
      "metadata": {
        "id": "wPEBZeoVdYAY"
      },
      "id": "wPEBZeoVdYAY",
      "execution_count": null,
      "outputs": []
    },
    {
      "cell_type": "code",
      "source": [
        "plt.figure(figsize=(10,8))\n",
        "plot_decision_regions(X_moons,Y_moons,clf = clf_erosion);"
      ],
      "metadata": {
        "id": "L6X3jILai5Hd"
      },
      "id": "L6X3jILai5Hd",
      "execution_count": null,
      "outputs": []
    },
    {
      "cell_type": "code",
      "source": [
        "clf_erosion_4cancer = MorphNetErosion(50)\n",
        "clf_erosion_4cancer.fit(X_cancer,Y_cancer,200);\n",
        "Ypred = clf_erosion_4cancer.predict(X_cancer);"
      ],
      "metadata": {
        "id": "q1gwU-YCpf66"
      },
      "id": "q1gwU-YCpf66",
      "execution_count": null,
      "outputs": []
    },
    {
      "cell_type": "code",
      "source": [
        "score_erosion_4cancer = myscore(clf_erosion_4cancer,X_cancer,Y_cancer)\n",
        "print(f'A acurácia do modelo que utiliza apenas a diltação como construção teórica está em {round(score_erosion_4cancer*100,2)}%')"
      ],
      "metadata": {
        "id": "mRhZDwmDpo2g"
      },
      "id": "mRhZDwmDpo2g",
      "execution_count": null,
      "outputs": []
    },
    {
      "cell_type": "code",
      "source": [
        "print(classification_report(Y_cancer,clf_erosion_4cancer.predict(X_cancer)))"
      ],
      "metadata": {
        "id": "2M39qDZ-uDdN"
      },
      "id": "2M39qDZ-uDdN",
      "execution_count": null,
      "outputs": []
    },
    {
      "cell_type": "markdown",
      "source": [
        "### 5.7) Criando uma rede neural com os conceitos da **Dilation Layer**, aqui temos a aplicação do modelo matemático calculado anteriormente. Testamos também sua acurácia, afim de termos uma métrica de comparação entre os modelos."
      ],
      "metadata": {
        "id": "f02QYXzCiCCZ"
      },
      "id": "f02QYXzCiCCZ"
    },
    {
      "cell_type": "code",
      "source": [
        "class MorphNetDilation():\n",
        "    def __init__(self, Neuronios = 10):\n",
        "        self.N = Neuronios\n",
        "\n",
        "    def fit(self,X,Y,epochs = 100):\n",
        "        self.clf = Sequential([DilationLayer(self.N),Dense(1)])\n",
        "        self.clf.compile(optimizer=\"Adam\",loss=tf.keras.losses.BinaryCrossentropy(from_logits=True))\n",
        "        self.clf.fit(X,Y,epochs=epochs)\n",
        "\n",
        "    def predict(self,X):\n",
        "        return self.clf.predict(X) >= 0"
      ],
      "metadata": {
        "id": "6p-zxfPYYNOr"
      },
      "id": "6p-zxfPYYNOr",
      "execution_count": null,
      "outputs": []
    },
    {
      "cell_type": "code",
      "source": [
        "clf_dilation = MorphNetDilation(50)\n",
        "clf_dilation.fit(X_moons,Y_moons,200);\n",
        "Ypred = clf_dilation.predict(X_moons);"
      ],
      "metadata": {
        "id": "R_uAxuL3ZpSF"
      },
      "id": "R_uAxuL3ZpSF",
      "execution_count": null,
      "outputs": []
    },
    {
      "cell_type": "code",
      "source": [
        "score_dilation = myscore(clf_dilation,X_moons,Y_moons)\n",
        "print(f'A acurácia do modelo que utiliza apenas a diltação como construção teórica está em {round(score_dilation*100,2)}%')"
      ],
      "metadata": {
        "id": "b60N9WCNajD8"
      },
      "id": "b60N9WCNajD8",
      "execution_count": null,
      "outputs": []
    },
    {
      "cell_type": "code",
      "source": [
        "print(classification_report(Y_moons,clf_dilation.predict(X_moons)))"
      ],
      "metadata": {
        "id": "dDgEq8aXdhna"
      },
      "id": "dDgEq8aXdhna",
      "execution_count": null,
      "outputs": []
    },
    {
      "cell_type": "code",
      "source": [
        "plt.figure(figsize=(10,8))\n",
        "plot_decision_regions(X_moons,Y_moons,clf = clf_dilation);"
      ],
      "metadata": {
        "id": "RtCGypdCjB0x"
      },
      "id": "RtCGypdCjB0x",
      "execution_count": null,
      "outputs": []
    },
    {
      "cell_type": "code",
      "source": [
        "clf_dilation_4cancer = MorphNetDilation(50)\n",
        "clf_dilation_4cancer.fit(X_cancer,Y_cancer,200);\n",
        "Ypred = clf_dilation_4cancer.predict(X_cancer);"
      ],
      "metadata": {
        "id": "8_3ln2Zuo6NS"
      },
      "id": "8_3ln2Zuo6NS",
      "execution_count": null,
      "outputs": []
    },
    {
      "cell_type": "code",
      "source": [
        "score_dilation_4cancer = myscore(clf_dilation_4cancer,X_cancer,Y_cancer)\n",
        "print(f'A acurácia do modelo que utiliza apenas a diltação como construção teórica está em {round(score_dilation_4cancer*100,2)}%')"
      ],
      "metadata": {
        "id": "2Yf3k4BmpTqb"
      },
      "id": "2Yf3k4BmpTqb",
      "execution_count": null,
      "outputs": []
    },
    {
      "cell_type": "code",
      "source": [
        "print(classification_report(Y_cancer,clf_dilation_4cancer.predict(X_cancer)))"
      ],
      "metadata": {
        "id": "hU-BZ214uL6l"
      },
      "id": "hU-BZ214uL6l",
      "execution_count": null,
      "outputs": []
    },
    {
      "cell_type": "markdown",
      "source": [
        "### 5.8) Criando uma rede neural com os conceitos tanto da **Dilation Layer** quanto da **Erosion Layer**, aqui temos a aplicação dos modelos matemáticos calculados anteriormente. Testamos também sua acurácia, afim de termos uma métrica de comparação entre os modelos."
      ],
      "metadata": {
        "id": "A3cFi1CJiF5R"
      },
      "id": "A3cFi1CJiF5R"
    },
    {
      "cell_type": "code",
      "source": [
        "class MorphNet():\n",
        "    def __init__(self, Neuronios = 10):\n",
        "        self.N = Neuronios\n",
        "\n",
        "    def fit(self,X,Y,epochs = 100):\n",
        "        self.clf = Sequential([ErosionLayer(self.N),DilationLayer(self.N),Dense(1)])\n",
        "        self.clf.compile(optimizer=\"Adam\",loss=tf.keras.losses.BinaryCrossentropy(from_logits=True))\n",
        "        self.clf.fit(X,Y,epochs=epochs)\n",
        "\n",
        "    def predict(self,X):\n",
        "        return self.clf.predict(X) >= 0"
      ],
      "metadata": {
        "id": "uW6vIG88LbfH"
      },
      "id": "uW6vIG88LbfH",
      "execution_count": null,
      "outputs": []
    },
    {
      "cell_type": "code",
      "source": [
        "clf_both = MorphNet(50)\n",
        "clf_both.fit(X_moons,Y_moons,200);\n",
        "Ypred = clf_both.predict(X_moons);"
      ],
      "metadata": {
        "id": "k9RCzsyaCiBg"
      },
      "id": "k9RCzsyaCiBg",
      "execution_count": null,
      "outputs": []
    },
    {
      "cell_type": "code",
      "source": [
        "score_both = myscore(clf_both,X_moons,Y_moons)\n",
        "print(f'A acurácia do modelo que utiliza ambas operações como construção teórica está em {round(score_dilation*100,2)}%')"
      ],
      "metadata": {
        "id": "7CkC3eS5c5N-"
      },
      "id": "7CkC3eS5c5N-",
      "execution_count": null,
      "outputs": []
    },
    {
      "cell_type": "code",
      "source": [
        "print(classification_report(Y_moons,clf_both.predict(X_moons)))"
      ],
      "metadata": {
        "id": "qShCSyrWdkui"
      },
      "id": "qShCSyrWdkui",
      "execution_count": null,
      "outputs": []
    },
    {
      "cell_type": "code",
      "source": [
        "plt.figure(figsize=(10,8))\n",
        "plot_decision_regions(X_moons,Y_moons,clf = clf_both);"
      ],
      "metadata": {
        "id": "E8mvekyfjGRI"
      },
      "id": "E8mvekyfjGRI",
      "execution_count": null,
      "outputs": []
    },
    {
      "cell_type": "code",
      "source": [
        "clf_both_4cancer = MorphNet(50)\n",
        "clf_both_4cancer.fit(X_cancer,Y_cancer,200);\n",
        "Ypred = clf_both_4cancer.predict(X_cancer);"
      ],
      "metadata": {
        "id": "_5MRMKyTqN7d"
      },
      "id": "_5MRMKyTqN7d",
      "execution_count": null,
      "outputs": []
    },
    {
      "cell_type": "code",
      "source": [
        "score_both_4cancer = myscore(clf_both_4cancer,X_cancer,Y_cancer)\n",
        "print(f' acurácia do modelo que utiliza ambas operações como construção teórica está em {round(score_both_4cancer*100,2)}%')"
      ],
      "metadata": {
        "id": "2A3wc-QKqLhw"
      },
      "id": "2A3wc-QKqLhw",
      "execution_count": null,
      "outputs": []
    },
    {
      "cell_type": "code",
      "source": [
        "print(classification_report(Y_cancer,clf_both_4cancer.predict(X_cancer)))"
      ],
      "metadata": {
        "id": "It4xliqouRfF"
      },
      "id": "It4xliqouRfF",
      "execution_count": null,
      "outputs": []
    },
    {
      "cell_type": "markdown",
      "source": [
        "### 5.9) Utilizando a técnica de divisão StratifiedKFold que consiste em pegar um dataset dividir em k partes balanceando nossos rótulos, utilizando $k-1$ partes para treino e uma $k-(k-1)$ partes para teste."
      ],
      "metadata": {
        "id": "rJR1LuSDiiV1"
      },
      "id": "rJR1LuSDiiV1"
    },
    {
      "cell_type": "code",
      "source": [
        "kf = StratifiedKFold(n_splits=5)\n",
        "for ind_tr, ind_te in kf.split(range(X_moons.shape[0]), Y_moons):\n",
        "  Xtr = X_moons[ind_tr,:]\n",
        "  Ytr = Y_moons[ind_tr]\n",
        "  Xte = X_moons[ind_te,:]\n",
        "  Yte = Y_moons[ind_te]\n",
        "  clf_kfold = MorphNet(50)\n",
        "  clf_kfold.fit(Xtr,Ytr,200)\n",
        "  print(accuracy_score(Yte,clf_kfold.predict(Xte)))"
      ],
      "metadata": {
        "id": "DmAZgdsRG7sn"
      },
      "id": "DmAZgdsRG7sn",
      "execution_count": null,
      "outputs": []
    },
    {
      "cell_type": "code",
      "source": [
        "plt.figure(figsize=(10,8))\n",
        "plot_decision_regions(Xtr,Ytr,clf = clf_kfold);"
      ],
      "metadata": {
        "id": "jQyutbfF-P_q"
      },
      "id": "jQyutbfF-P_q",
      "execution_count": null,
      "outputs": []
    }
  ],
  "metadata": {
    "@webio": {
      "lastCommId": null,
      "lastKernelId": null
    },
    "kernelspec": {
      "display_name": "Python 3",
      "name": "python3"
    },
    "language_info": {
      "codemirror_mode": {
        "name": "ipython",
        "version": 3
      },
      "file_extension": ".py",
      "mimetype": "text/x-python",
      "name": "python",
      "nbconvert_exporter": "python",
      "pygments_lexer": "ipython3",
      "version": "3.9.2"
    },
    "colab": {
      "provenance": [],
      "gpuType": "T4",
      "include_colab_link": true
    },
    "accelerator": "GPU"
  },
  "nbformat": 4,
  "nbformat_minor": 5
}